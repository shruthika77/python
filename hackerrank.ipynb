{
  "nbformat": 4,
  "nbformat_minor": 0,
  "metadata": {
    "colab": {
      "provenance": [],
      "authorship_tag": "ABX9TyOXjMdaL2AFBRA6g+i8Eido",
      "include_colab_link": true
    },
    "kernelspec": {
      "name": "python3",
      "display_name": "Python 3"
    },
    "language_info": {
      "name": "python"
    }
  },
  "cells": [
    {
      "cell_type": "markdown",
      "metadata": {
        "id": "view-in-github",
        "colab_type": "text"
      },
      "source": [
        "<a href=\"https://colab.research.google.com/github/shruthika77/python/blob/main/hackerrank.ipynb\" target=\"_parent\"><img src=\"https://colab.research.google.com/assets/colab-badge.svg\" alt=\"Open In Colab\"/></a>"
      ]
    },
    {
      "cell_type": "code",
      "source": [
        "n=int(input())\n",
        "lst=[]\n",
        "for i in range(n):\n",
        "  s=(input().split())\n",
        "  if s[0]==\"insert\":\n",
        "   position=int(s[1])\n",
        "   number=int(s[2])\n",
        "   lst.insert(position,number)\n",
        "  elif s[0]==\"append\":\n",
        "   number=int(s[1])\n",
        "   lst.append(number)\n",
        "  elif s[0]==\"print\":\n",
        "    print(lst)\n",
        "  elif s[0]==\"reverse\":\n",
        "    lst.reverse()\n",
        "  elif s[0]==\"remove\":\n",
        "    number=int(s[1])\n",
        "    lst.remove(number)\n",
        "  elif s[0]==\"sort\":\n",
        "    lst.sort()\n",
        "  elif s[0]==\"pop\":\n",
        "    lst.pop()in"
      ],
      "metadata": {
        "colab": {
          "base_uri": "https://localhost:8080/"
        },
        "id": "-JE6f3SDLUGm",
        "outputId": "40f8c56b-aa83-4069-ba1d-bcfa747845f3"
      },
      "execution_count": null,
      "outputs": [
        {
          "name": "stdout",
          "output_type": "stream",
          "text": [
            "4\n",
            "append 6\n",
            "insert 1 3\n",
            "append 1\n",
            "reverse\n"
          ]
        }
      ]
    },
    {
      "cell_type": "code",
      "source": [
        "t=input()\n",
        "def swap(s):\n",
        "  return s.swapcase()\n",
        "print(swap(t))\n"
      ],
      "metadata": {
        "colab": {
          "base_uri": "https://localhost:8080/"
        },
        "id": "ypwokOL4tZOT",
        "outputId": "813e9754-b6e6-4efa-c4de-58324105f1ea"
      },
      "execution_count": null,
      "outputs": [
        {
          "output_type": "stream",
          "name": "stdout",
          "text": [
            "Sheuthika\n",
            "sHEUTHIKA\n"
          ]
        }
      ]
    },
    {
      "cell_type": "code",
      "source": [
        "a=input()\n",
        "def spilt(line):\n",
        "  line=line.split(\" \")\n",
        "  line=\"-\".join(line)\n",
        "  return line\n",
        "print(spilt(a))\n"
      ],
      "metadata": {
        "colab": {
          "base_uri": "https://localhost:8080/"
        },
        "id": "Y0VRtoZWuiWE",
        "outputId": "20e134e7-3f11-4373-cb84-b2d8f7b55caf"
      },
      "execution_count": null,
      "outputs": [
        {
          "output_type": "stream",
          "name": "stdout",
          "text": [
            "bweh efgbqu hrejfb\n",
            "bweh-efgbqu-hrejfb\n"
          ]
        }
      ]
    },
    {
      "cell_type": "code",
      "source": [
        "\n",
        "#\n",
        "\n",
        "def print_full_name(first, last):\n",
        "    print(\"Hello\",first, last+\"! You just delved into python.\")\n",
        "\n",
        "\n",
        "if __name__ == '__main__':\n",
        "    first_name = input()\n",
        "    last_name = input()\n",
        "    print_full_name(first_name, last_name)"
      ],
      "metadata": {
        "colab": {
          "base_uri": "https://localhost:8080/"
        },
        "id": "8jQKVPiwzOuZ",
        "outputId": "0a0c0463-47d5-4156-daa8-c6644d1975fe"
      },
      "execution_count": null,
      "outputs": [
        {
          "output_type": "stream",
          "name": "stdout",
          "text": [
            "shruthi\n",
            "ka\n",
            "Hello shruthi ka! You just delved into python.\n"
          ]
        }
      ]
    },
    {
      "cell_type": "code",
      "source": [
        "def mod(str,position,char):\n",
        "  sntr=str[:position]+char+str[position+1:]\n",
        "  return sntr\n",
        "str=input()\n",
        "position=int(input())\n",
        "char=input()\n",
        "print(mod(str,position,char))\n"
      ],
      "metadata": {
        "colab": {
          "base_uri": "https://localhost:8080/"
        },
        "id": "0YVkp_aj2ZJG",
        "outputId": "65d1f488-b6ad-4d9c-c32d-e3dd13f238a6"
      },
      "execution_count": null,
      "outputs": [
        {
          "output_type": "stream",
          "name": "stdout",
          "text": [
            "gdsfsu \n",
            "5\n",
            "g\n",
            "gdsfsg \n"
          ]
        }
      ]
    },
    {
      "cell_type": "code",
      "source": [
        "def mode(st,post,char):\n",
        "  l=list(st)\n",
        "  l[post]=char\n",
        "  a=\"\".join(l)\n",
        "  return a\n",
        "st=input()\n",
        "post=int(input())\n",
        "char=input()\n",
        "print(mode(st,post,char))"
      ],
      "metadata": {
        "colab": {
          "base_uri": "https://localhost:8080/"
        },
        "id": "dZyUaOov42yo",
        "outputId": "d07ddf1f-2fa2-4df0-f1bc-26546abeb90b"
      },
      "execution_count": null,
      "outputs": [
        {
          "output_type": "stream",
          "name": "stdout",
          "text": [
            "ygsuyudgdh\n",
            "4\n",
            "s\n",
            "ygsusudgdh\n"
          ]
        }
      ]
    },
    {
      "cell_type": "code",
      "source": [
        "def cos(string,sub_string):\n",
        "  count=0\n",
        "  for i in range(len(string) ):\n",
        "    if string[i:i+len(sub_string)]==sub_string:\n",
        "      count+=1\n",
        "  return count\n",
        "string=input()\n",
        "sub_string=input()\n",
        "print(cos(string,sub_string))\n"
      ],
      "metadata": {
        "colab": {
          "base_uri": "https://localhost:8080/"
        },
        "id": "3ReZ1IcbQHeH",
        "outputId": "24e73614-83a5-4add-d6e9-a23a16069e99"
      },
      "execution_count": 12,
      "outputs": [
        {
          "output_type": "stream",
          "name": "stdout",
          "text": [
            "ABCDCDC\n",
            "CDC\n",
            "2\n"
          ]
        }
      ]
    },
    {
      "cell_type": "code",
      "source": [
        "s=input()\n",
        "print(any(i.isalnum() for i in s))\n",
        "print(any(i.isalpha() for i in s))\n",
        "print(any(i.isdigit() for i in s))\n",
        "print(any(i.islower() for i in s))\n",
        "print(any(i.isupper() for i in s))"
      ],
      "metadata": {
        "colab": {
          "base_uri": "https://localhost:8080/"
        },
        "id": "DfwkaFwymQ5Y",
        "outputId": "465c9db4-aabe-46b9-8cad-ee752b8cb29b"
      },
      "execution_count": 13,
      "outputs": [
        {
          "output_type": "stream",
          "name": "stdout",
          "text": [
            "Aq2\n",
            "True\n",
            "True\n",
            "True\n",
            "True\n",
            "True\n"
          ]
        }
      ]
    },
    {
      "cell_type": "code",
      "source": [
        "st=\"hellohfkuy\"\n",
        "st[0:5]"
      ],
      "metadata": {
        "colab": {
          "base_uri": "https://localhost:8080/",
          "height": 35
        },
        "id": "tPrf_QxYgb5K",
        "outputId": "2d046f53-8475-4016-dea4-b2d79de4fbd3"
      },
      "execution_count": 10,
      "outputs": [
        {
          "output_type": "execute_result",
          "data": {
            "text/plain": [
              "'hello'"
            ],
            "application/vnd.google.colaboratory.intrinsic+json": {
              "type": "string"
            }
          },
          "metadata": {},
          "execution_count": 10
        }
      ]
    },
    {
      "cell_type": "code",
      "source": [
        "n=int(input())\n",
        "integer=tuple(map(int,input().split()))\n",
        "hash(integer)"
      ],
      "metadata": {
        "colab": {
          "base_uri": "https://localhost:8080/"
        },
        "id": "Vcwbt4FULgVz",
        "outputId": "0f2b9a13-49c8-4ab9-ad1b-64fe75207e7e"
      },
      "execution_count": null,
      "outputs": [
        {
          "name": "stdout",
          "output_type": "stream",
          "text": [
            "5\n",
            "5 4 3 \n"
          ]
        },
        {
          "output_type": "execute_result",
          "data": {
            "text/plain": [
              "5122155063987770581"
            ]
          },
          "metadata": {},
          "execution_count": 8
        }
      ]
    },
    {
      "cell_type": "code",
      "source": [
        "n=set(map(int,input().split()))\n",
        "ni=int(input())\n",
        "for i in range(ni):\n",
        "  nn=set(map(int,input().split()))\n",
        "\n",
        "\n"
      ],
      "metadata": {
        "colab": {
          "base_uri": "https://localhost:8080/"
        },
        "id": "gG-pYzSfPyLH",
        "outputId": "9951333f-5e8d-477b-b22e-1b3b4cccf48a"
      },
      "execution_count": null,
      "outputs": [
        {
          "name": "stdout",
          "output_type": "stream",
          "text": [
            "6 7 7 \n"
          ]
        }
      ]
    },
    {
      "cell_type": "code",
      "source": [
        "n=input()\n",
        "if 'a','e','i','o','u' in n:\n",
        "  print(its vowel)\n",
        "else:\n",
        "  print(n)"
      ],
      "metadata": {
        "colab": {
          "base_uri": "https://localhost:8080/",
          "height": 130
        },
        "id": "DbKltgUlXkJP",
        "outputId": "1fbc789d-72cd-4015-e89a-0b325faa2185"
      },
      "execution_count": null,
      "outputs": [
        {
          "output_type": "error",
          "ename": "SyntaxError",
          "evalue": "ignored",
          "traceback": [
            "\u001b[0;36m  File \u001b[0;32m\"<ipython-input-10-1abe843f5458>\"\u001b[0;36m, line \u001b[0;32m2\u001b[0m\n\u001b[0;31m    if 'a','e','i','o','u' in n:\u001b[0m\n\u001b[0m          ^\u001b[0m\n\u001b[0;31mSyntaxError\u001b[0m\u001b[0;31m:\u001b[0m invalid syntax\n"
          ]
        }
      ]
    }
  ]
}